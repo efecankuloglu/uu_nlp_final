{
 "cells": [
  {
   "cell_type": "code",
   "execution_count": 1,
   "metadata": {
    "id": "dRBxjFlHE_WV"
   },
   "outputs": [],
   "source": [
    "import re\n",
    "import urllib.request\n",
    "import bs4 as BeautifulSoup\n",
    "import nltk\n",
    "import heapq\n",
    "from nltk.corpus import stopwords\n",
    "from nltk.tokenize import word_tokenize, sent_tokenize"
   ]
  },
  {
   "cell_type": "code",
   "execution_count": 2,
   "metadata": {},
   "outputs": [
    {
     "name": "stderr",
     "output_type": "stream",
     "text": [
      "[nltk_data] Downloading package stopwords to\n",
      "[nltk_data]     C:\\Users\\efecank\\AppData\\Roaming\\nltk_data...\n",
      "[nltk_data]   Package stopwords is already up-to-date!\n",
      "[nltk_data] Downloading package punkt to\n",
      "[nltk_data]     C:\\Users\\efecank\\AppData\\Roaming\\nltk_data...\n",
      "[nltk_data]   Package punkt is already up-to-date!\n"
     ]
    },
    {
     "data": {
      "text/plain": [
       "True"
      ]
     },
     "execution_count": 2,
     "metadata": {},
     "output_type": "execute_result"
    }
   ],
   "source": [
    "nltk.download('stopwords')\n",
    "nltk.download('punkt')"
   ]
  },
  {
   "cell_type": "code",
   "execution_count": 3,
   "metadata": {
    "id": "OJJe6nTjVZNL"
   },
   "outputs": [],
   "source": [
    "stop_words = stopwords.words('english')"
   ]
  },
  {
   "cell_type": "code",
   "execution_count": 382,
   "metadata": {
    "id": "14LvkL3WGRQZ"
   },
   "outputs": [],
   "source": [
    "# scraped_data = urllib.request.urlopen('https://en.wikipedia.org/wiki/Python_(programming_language)')\n",
    "scraped_data = urllib.request.urlopen('https://en.wikipedia.org/wiki/Natural_language_processing')"
   ]
  },
  {
   "cell_type": "code",
   "execution_count": 383,
   "metadata": {
    "id": "PFEiN0bMIrvJ"
   },
   "outputs": [],
   "source": [
    "article = scraped_data.read()"
   ]
  },
  {
   "cell_type": "code",
   "execution_count": 384,
   "metadata": {
    "id": "nsxdPwc-I9Zb"
   },
   "outputs": [],
   "source": [
    "article_parsed = BeautifulSoup.BeautifulSoup(article,'lxml')"
   ]
  },
  {
   "cell_type": "code",
   "execution_count": 385,
   "metadata": {
    "id": "_-xH6zzQJAP_"
   },
   "outputs": [],
   "source": [
    "paragraphs = article_parsed.find_all('p')"
   ]
  },
  {
   "cell_type": "code",
   "execution_count": 386,
   "metadata": {
    "id": "oY8saxWeJBWH"
   },
   "outputs": [],
   "source": [
    "article_content = ''\n",
    "for p in paragraphs:\n",
    "    article_content += p.text"
   ]
  },
  {
   "cell_type": "code",
   "execution_count": 387,
   "metadata": {
    "id": "8qspqhdaJD-y"
   },
   "outputs": [],
   "source": [
    "article_content = re.sub(r'\\[[0-9]*\\]', ' ', article_content)\n",
    "article_content = re.sub(r'\\s+', ' ', article_content)"
   ]
  },
  {
   "cell_type": "code",
   "execution_count": 388,
   "metadata": {
    "id": "iW9JQjE4VGbU"
   },
   "outputs": [],
   "source": [
    "formatted_article_content = re.sub('[^a-zA-Z]', ' ', article_content )\n",
    "formatted_article_content = re.sub(r'\\s+', ' ', formatted_article_content)"
   ]
  },
  {
   "cell_type": "code",
   "execution_count": 389,
   "metadata": {
    "id": "22Je6ZluVRDf"
   },
   "outputs": [],
   "source": [
    "words = word_tokenize(formatted_article_content)"
   ]
  },
  {
   "cell_type": "code",
   "execution_count": 390,
   "metadata": {
    "id": "7q6bLa6FVeUV"
   },
   "outputs": [],
   "source": [
    "word_frequencies = {}\n",
    "\n",
    "for word in words:\n",
    "    word = word.lower()\n",
    "    if word not in stop_words:\n",
    "        if word not in word_frequencies.keys():\n",
    "            word_frequencies[word] = 1\n",
    "        else:\n",
    "            word_frequencies[word] += 1"
   ]
  },
  {
   "cell_type": "code",
   "execution_count": 391,
   "metadata": {
    "colab": {
     "base_uri": "https://localhost:8080/"
    },
    "id": "BRAcGfp1cqpq",
    "outputId": "5a813ce0-8e80-4159-d363-f54525334abd"
   },
   "outputs": [
    {
     "data": {
      "text/plain": [
       "{'natural': 17,\n",
       " 'language': 25,\n",
       " 'processing': 13,\n",
       " 'nlp': 15,\n",
       " 'interdisciplinary': 3,\n",
       " 'subfield': 1,\n",
       " 'computer': 3,\n",
       " 'science': 3,\n",
       " 'information': 2,\n",
       " 'retrieval': 1,\n",
       " 'primarily': 1,\n",
       " 'concerned': 1,\n",
       " 'giving': 1,\n",
       " 'computers': 1,\n",
       " 'ability': 1,\n",
       " 'support': 1,\n",
       " 'manipulate': 1,\n",
       " 'human': 1,\n",
       " 'involves': 2,\n",
       " 'datasets': 1,\n",
       " 'text': 2,\n",
       " 'corpora': 2,\n",
       " 'speech': 4,\n",
       " 'using': 3,\n",
       " 'either': 1,\n",
       " 'rule': 5,\n",
       " 'based': 10,\n",
       " 'probabilistic': 1,\n",
       " 'e': 9,\n",
       " 'statistical': 8,\n",
       " 'recently': 2,\n",
       " 'neural': 7,\n",
       " 'network': 3,\n",
       " 'machine': 7,\n",
       " 'learning': 6,\n",
       " 'approaches': 6,\n",
       " 'goal': 1,\n",
       " 'capable': 1,\n",
       " 'understanding': 4,\n",
       " 'citation': 1,\n",
       " 'needed': 2,\n",
       " 'contents': 1,\n",
       " 'documents': 3,\n",
       " 'including': 1,\n",
       " 'contextual': 1,\n",
       " 'nuances': 1,\n",
       " 'within': 1,\n",
       " 'end': 2,\n",
       " 'often': 1,\n",
       " 'borrows': 1,\n",
       " 'ideas': 3,\n",
       " 'theoretical': 2,\n",
       " 'linguistics': 9,\n",
       " 'technology': 2,\n",
       " 'accurately': 1,\n",
       " 'extract': 1,\n",
       " 'insights': 1,\n",
       " 'contained': 1,\n",
       " 'well': 2,\n",
       " 'categorize': 1,\n",
       " 'organize': 1,\n",
       " 'challenges': 1,\n",
       " 'frequently': 2,\n",
       " 'involve': 2,\n",
       " 'recognition': 1,\n",
       " 'generation': 2,\n",
       " 'roots': 1,\n",
       " 'already': 1,\n",
       " 'alan': 1,\n",
       " 'turing': 2,\n",
       " 'published': 1,\n",
       " 'article': 1,\n",
       " 'titled': 1,\n",
       " 'computing': 1,\n",
       " 'machinery': 1,\n",
       " 'intelligence': 5,\n",
       " 'proposed': 2,\n",
       " 'called': 1,\n",
       " 'test': 2,\n",
       " 'criterion': 1,\n",
       " 'though': 2,\n",
       " 'time': 2,\n",
       " 'articulated': 1,\n",
       " 'problem': 1,\n",
       " 'separate': 1,\n",
       " 'artificial': 3,\n",
       " 'includes': 1,\n",
       " 'task': 1,\n",
       " 'automated': 1,\n",
       " 'interpretation': 1,\n",
       " 'premise': 1,\n",
       " 'symbolic': 4,\n",
       " 'summarized': 1,\n",
       " 'john': 1,\n",
       " 'searle': 1,\n",
       " 'chinese': 2,\n",
       " 'room': 1,\n",
       " 'experiment': 1,\n",
       " 'given': 2,\n",
       " 'collection': 1,\n",
       " 'rules': 6,\n",
       " 'g': 7,\n",
       " 'phrasebook': 1,\n",
       " 'questions': 1,\n",
       " 'matching': 1,\n",
       " 'answers': 1,\n",
       " 'emulates': 1,\n",
       " 'tasks': 9,\n",
       " 'applying': 1,\n",
       " 'data': 1,\n",
       " 'confronts': 1,\n",
       " 'systems': 3,\n",
       " 'complex': 1,\n",
       " 'sets': 1,\n",
       " 'hand': 3,\n",
       " 'written': 1,\n",
       " 'starting': 1,\n",
       " 'late': 2,\n",
       " 'however': 2,\n",
       " 'revolution': 1,\n",
       " 'introduction': 2,\n",
       " 'algorithms': 2,\n",
       " 'due': 2,\n",
       " 'steady': 1,\n",
       " 'increase': 1,\n",
       " 'computational': 3,\n",
       " 'power': 1,\n",
       " 'see': 2,\n",
       " 'moore': 1,\n",
       " 'law': 1,\n",
       " 'gradual': 1,\n",
       " 'lessening': 1,\n",
       " 'dominance': 1,\n",
       " 'chomskyan': 1,\n",
       " 'theories': 1,\n",
       " 'transformational': 1,\n",
       " 'grammar': 4,\n",
       " 'whose': 1,\n",
       " 'underpinnings': 1,\n",
       " 'discouraged': 1,\n",
       " 'sort': 1,\n",
       " 'corpus': 1,\n",
       " 'underlies': 1,\n",
       " 'approach': 9,\n",
       " 'word': 4,\n",
       " 'n': 1,\n",
       " 'gram': 1,\n",
       " 'model': 2,\n",
       " 'best': 1,\n",
       " 'algorithm': 1,\n",
       " 'overperformed': 1,\n",
       " 'multi': 1,\n",
       " 'layer': 3,\n",
       " 'perceptron': 1,\n",
       " 'single': 2,\n",
       " 'hidden': 4,\n",
       " 'context': 2,\n",
       " 'length': 1,\n",
       " 'several': 1,\n",
       " 'words': 3,\n",
       " 'trained': 1,\n",
       " 'million': 1,\n",
       " 'cpu': 1,\n",
       " 'cluster': 1,\n",
       " 'modelling': 2,\n",
       " 'yoshua': 1,\n",
       " 'bengio': 1,\n",
       " 'co': 2,\n",
       " 'authors': 2,\n",
       " 'tom': 1,\n",
       " 'mikolov': 1,\n",
       " 'phd': 1,\n",
       " 'student': 1,\n",
       " 'brno': 1,\n",
       " 'university': 2,\n",
       " 'applied': 2,\n",
       " 'simple': 1,\n",
       " 'recurrent': 1,\n",
       " 'following': 2,\n",
       " 'years': 1,\n",
       " 'went': 1,\n",
       " 'develop': 2,\n",
       " 'vec': 1,\n",
       " 'representation': 1,\n",
       " 'deep': 1,\n",
       " 'style': 1,\n",
       " 'featuring': 1,\n",
       " 'many': 3,\n",
       " 'layers': 1,\n",
       " 'methods': 2,\n",
       " 'became': 1,\n",
       " 'widespread': 1,\n",
       " 'popularity': 1,\n",
       " 'partly': 1,\n",
       " 'flurry': 1,\n",
       " 'results': 2,\n",
       " 'showing': 1,\n",
       " 'techniques': 1,\n",
       " 'achieve': 2,\n",
       " 'state': 1,\n",
       " 'art': 1,\n",
       " 'modeling': 1,\n",
       " 'parsing': 2,\n",
       " 'increasingly': 2,\n",
       " 'important': 1,\n",
       " 'medicine': 1,\n",
       " 'healthcare': 1,\n",
       " 'helps': 1,\n",
       " 'analyze': 1,\n",
       " 'notes': 1,\n",
       " 'electronic': 1,\n",
       " 'health': 1,\n",
       " 'records': 1,\n",
       " 'would': 1,\n",
       " 'otherwise': 1,\n",
       " 'inaccessible': 1,\n",
       " 'study': 2,\n",
       " 'seeking': 1,\n",
       " 'improve': 1,\n",
       " 'care': 1,\n",
       " 'protect': 1,\n",
       " 'patient': 1,\n",
       " 'privacy': 1,\n",
       " 'coding': 1,\n",
       " 'set': 1,\n",
       " 'manipulating': 2,\n",
       " 'symbols': 2,\n",
       " 'coupled': 1,\n",
       " 'dictionary': 1,\n",
       " 'lookup': 1,\n",
       " 'historically': 1,\n",
       " 'first': 1,\n",
       " 'used': 3,\n",
       " 'ai': 3,\n",
       " 'general': 2,\n",
       " 'particular': 1,\n",
       " 'writing': 1,\n",
       " 'grammars': 1,\n",
       " 'devising': 1,\n",
       " 'heuristic': 1,\n",
       " 'stemming': 1,\n",
       " 'include': 1,\n",
       " 'networks': 2,\n",
       " 'advantages': 1,\n",
       " 'although': 2,\n",
       " 'still': 2,\n",
       " 'use': 1,\n",
       " 'become': 1,\n",
       " 'mostly': 1,\n",
       " 'obsolete': 2,\n",
       " 'advance': 1,\n",
       " 'llms': 1,\n",
       " 'commonly': 3,\n",
       " 'mid': 1,\n",
       " 'ended': 1,\n",
       " 'period': 1,\n",
       " 'winter': 1,\n",
       " 'caused': 1,\n",
       " 'inefficiencies': 1,\n",
       " 'earliest': 1,\n",
       " 'decision': 1,\n",
       " 'trees': 1,\n",
       " 'producing': 1,\n",
       " 'hard': 1,\n",
       " 'similar': 1,\n",
       " 'old': 2,\n",
       " 'markov': 1,\n",
       " 'models': 3,\n",
       " 'part': 3,\n",
       " 'tagging': 2,\n",
       " 'announced': 1,\n",
       " 'major': 2,\n",
       " 'drawback': 1,\n",
       " 'require': 1,\n",
       " 'elaborate': 1,\n",
       " 'feature': 1,\n",
       " 'engineering': 1,\n",
       " 'since': 2,\n",
       " 'replaced': 1,\n",
       " 'embeddings': 1,\n",
       " 'capture': 1,\n",
       " 'semantic': 1,\n",
       " 'properties': 1,\n",
       " 'intermediate': 2,\n",
       " 'dependency': 1,\n",
       " 'anymore': 1,\n",
       " 'translation': 2,\n",
       " 'newly': 1,\n",
       " 'invented': 1,\n",
       " 'sequence': 2,\n",
       " 'transformations': 1,\n",
       " 'made': 2,\n",
       " 'steps': 1,\n",
       " 'alignment': 1,\n",
       " 'previously': 1,\n",
       " 'necessary': 1,\n",
       " 'list': 1,\n",
       " 'researched': 1,\n",
       " 'direct': 1,\n",
       " 'real': 1,\n",
       " 'world': 1,\n",
       " 'applications': 2,\n",
       " 'others': 1,\n",
       " 'serve': 1,\n",
       " 'subtasks': 1,\n",
       " 'aid': 1,\n",
       " 'solving': 1,\n",
       " 'larger': 1,\n",
       " 'closely': 1,\n",
       " 'intertwined': 1,\n",
       " 'subdivided': 1,\n",
       " 'categories': 1,\n",
       " 'convenience': 1,\n",
       " 'coarse': 1,\n",
       " 'division': 1,\n",
       " 'long': 2,\n",
       " 'standing': 2,\n",
       " 'trends': 3,\n",
       " 'field': 1,\n",
       " 'possible': 1,\n",
       " 'extrapolate': 1,\n",
       " 'future': 1,\n",
       " 'directions': 2,\n",
       " 'three': 1,\n",
       " 'among': 2,\n",
       " 'topics': 1,\n",
       " 'series': 1,\n",
       " 'conll': 2,\n",
       " 'shared': 2,\n",
       " 'observed': 1,\n",
       " 'higher': 1,\n",
       " 'level': 1,\n",
       " 'aspects': 3,\n",
       " 'emulate': 1,\n",
       " 'intelligent': 1,\n",
       " 'behaviour': 2,\n",
       " 'apparent': 1,\n",
       " 'comprehension': 1,\n",
       " 'broadly': 1,\n",
       " 'speaking': 1,\n",
       " 'technical': 1,\n",
       " 'operationalization': 1,\n",
       " 'advanced': 1,\n",
       " 'cognitive': 13,\n",
       " 'represents': 1,\n",
       " 'one': 1,\n",
       " 'developmental': 1,\n",
       " 'trajectories': 1,\n",
       " 'cognition': 1,\n",
       " 'refers': 1,\n",
       " 'mental': 1,\n",
       " 'action': 1,\n",
       " 'process': 1,\n",
       " 'acquiring': 1,\n",
       " 'knowledge': 2,\n",
       " 'thought': 1,\n",
       " 'experience': 1,\n",
       " 'senses': 1,\n",
       " 'scientific': 1,\n",
       " 'mind': 1,\n",
       " 'processes': 1,\n",
       " 'branch': 1,\n",
       " 'combining': 1,\n",
       " 'research': 1,\n",
       " 'psychology': 1,\n",
       " 'especially': 1,\n",
       " 'age': 1,\n",
       " 'area': 1,\n",
       " 'maintained': 1,\n",
       " 'strong': 1,\n",
       " 'ties': 2,\n",
       " 'studies': 1,\n",
       " 'example': 1,\n",
       " 'george': 1,\n",
       " 'lakoff': 1,\n",
       " 'offers': 1,\n",
       " 'methodology': 1,\n",
       " 'build': 1,\n",
       " 'perspective': 1,\n",
       " 'along': 1,\n",
       " 'findings': 1,\n",
       " 'two': 1,\n",
       " 'defining': 1,\n",
       " 'historical': 1,\n",
       " 'heritage': 1,\n",
       " 'less': 1,\n",
       " 'addressed': 1,\n",
       " 'turn': 1,\n",
       " 'nevertheless': 1,\n",
       " 'towards': 1,\n",
       " 'technically': 1,\n",
       " 'operationalizable': 1,\n",
       " 'frameworks': 2,\n",
       " 'pursued': 1,\n",
       " 'various': 1,\n",
       " 'functional': 1,\n",
       " 'construction': 1,\n",
       " 'psycholinguistics': 1,\n",
       " 'neuroscience': 1,\n",
       " 'act': 1,\n",
       " 'r': 1,\n",
       " 'limited': 1,\n",
       " 'uptake': 1,\n",
       " 'mainstream': 1,\n",
       " 'measured': 1,\n",
       " 'presence': 1,\n",
       " 'conferences': 1,\n",
       " 'acl': 1,\n",
       " 'revived': 1,\n",
       " 'explainability': 1,\n",
       " 'notion': 1,\n",
       " 'likewise': 1,\n",
       " 'inherent': 1,\n",
       " 'multimodal': 1,\n",
       " 'rarely': 1,\n",
       " 'explicit': 1,\n",
       " 'developments': 1,\n",
       " 'specifically': 1,\n",
       " 'tools': 1,\n",
       " 'technologies': 1,\n",
       " 'large': 1,\n",
       " 'new': 1,\n",
       " 'free': 1,\n",
       " 'energy': 1,\n",
       " 'principle': 1,\n",
       " 'british': 1,\n",
       " 'neuroscientist': 1,\n",
       " 'theoretician': 1,\n",
       " 'college': 1,\n",
       " 'london': 1,\n",
       " 'karl': 1,\n",
       " 'j': 1,\n",
       " 'friston': 1}"
      ]
     },
     "execution_count": 391,
     "metadata": {},
     "output_type": "execute_result"
    }
   ],
   "source": [
    "word_frequencies"
   ]
  },
  {
   "cell_type": "code",
   "execution_count": 392,
   "metadata": {
    "id": "srpaOkMfVlxA"
   },
   "outputs": [],
   "source": [
    "maximum_frequency = max(word_frequencies.values())\n",
    "\n",
    "for word in word_frequencies.keys():\n",
    "    word_frequencies[word] = (word_frequencies[word]/maximum_frequency)"
   ]
  },
  {
   "cell_type": "code",
   "execution_count": 393,
   "metadata": {
    "colab": {
     "base_uri": "https://localhost:8080/"
    },
    "id": "sYPwtAR8csrX",
    "outputId": "10ce1a0d-9d50-4cc3-af26-49103c1eaab6"
   },
   "outputs": [
    {
     "data": {
      "text/plain": [
       "25"
      ]
     },
     "execution_count": 393,
     "metadata": {},
     "output_type": "execute_result"
    }
   ],
   "source": [
    "maximum_frequency"
   ]
  },
  {
   "cell_type": "code",
   "execution_count": 394,
   "metadata": {},
   "outputs": [],
   "source": [
    "sentence_list = sent_tokenize(article_content)"
   ]
  },
  {
   "cell_type": "code",
   "execution_count": 395,
   "metadata": {
    "id": "ik9W3CatVob4"
   },
   "outputs": [],
   "source": [
    "sentence_scores = {}\n",
    "\n",
    "for sent in sentence_list:\n",
    "    for word, frequency in word_frequencies.items():\n",
    "        if word in sent.lower():\n",
    "            if sent not in sentence_scores.keys():\n",
    "                sentence_scores[sent] = frequency\n",
    "            else:\n",
    "                sentence_scores[sent] += frequency"
   ]
  },
  {
   "cell_type": "code",
   "execution_count": 396,
   "metadata": {
    "colab": {
     "base_uri": "https://localhost:8080/"
    },
    "id": "IruGMA50dFeA",
    "outputId": "8f717a7a-413d-4d4d-b863-6c19f63ba656"
   },
   "outputs": [
    {
     "data": {
      "text/plain": [
       "{'Natural language processing (NLP) is an interdisciplinary subfield of computer science and information retrieval.': 4.240000000000001,\n",
       " 'It is primarily concerned with giving computers the ability to support and manipulate human language.': 2.3600000000000003,\n",
       " 'It involves processing natural language datasets, such as text corpora or speech corpora, using either rule-based or probabilistic (i.e.': 4.560000000000001,\n",
       " 'statistical and, most recently, neural network-based) machine learning approaches.': 3.0800000000000005,\n",
       " 'The goal is a computer capable of \"understanding\"[citation needed] the contents of documents, including the contextual nuances of the language within them.': 2.880000000000001,\n",
       " 'To this end, natural language processing often borrows ideas from theoretical linguistics.': 3.7200000000000006,\n",
       " 'The technology can then accurately extract information and insights contained in the documents as well as categorize and organize the documents themselves.': 1.5600000000000005,\n",
       " 'Challenges in natural language processing frequently involve speech recognition, natural-language understanding, and natural-language generation.': 3.8400000000000007,\n",
       " 'Natural language processing has its roots in the 1940s.': 3.04,\n",
       " 'Already in 1940, Alan Turing published an article titled \"Computing Machinery and Intelligence\" which proposed what is now called the Turing test as a criterion of intelligence, though at the time that was not articulated as a problem separate from artificial intelligence.': 2.4000000000000012,\n",
       " 'The proposed test includes a task that involves the automated interpretation and generation of natural language.': 3.080000000000001,\n",
       " \"The premise of symbolic NLP is well-summarized by John Searle's Chinese room experiment: Given a collection of rules (e.g., a Chinese phrasebook, with questions and matching answers), the computer emulates natural language understanding (or other NLP tasks) by applying those rules to the data it confronts.\": 5.480000000000002,\n",
       " 'Up until the 1980s, most natural language processing systems were based on complex sets of hand-written rules.': 4.320000000000001,\n",
       " 'Starting in the late 1980s, however, there was a revolution in natural language processing with the introduction of machine learning algorithms for language processing.': 4.000000000000001,\n",
       " \"This was due to both the steady increase in computational power (see Moore's law) and the gradual lessening of the dominance of Chomskyan theories of linguistics (e.g.\": 1.8800000000000008,\n",
       " 'transformational grammar), whose theoretical underpinnings discouraged the sort of corpus linguistics that underlies the machine-learning approach to language processing.': 4.2,\n",
       " 'In 2003, word n-gram model, at the time the best statistical algorithm, was overperformed by a multi-layer perceptron (with a single hidden layer and context length of several words trained on up to 14 million of words with a CPU cluster in language modelling) by Yoshua Bengio with co-authors.': 3.9600000000000017,\n",
       " 'In 2010, Tomáš Mikolov (then a PhD student at Brno University of Technology) with co-authors applied a simple recurrent neural network with a single hidden layer to language modelling, and in the following years he went on to develop Word2vec.': 3.8400000000000016,\n",
       " 'In the 2010s, representation learning and deep neural network-style (featuring many hidden layers) machine learning methods became widespread in natural language processing.': 4.800000000000002,\n",
       " 'That popularity was due partly to a flurry of results showing that such techniques can achieve state-of-the-art results in many natural language tasks, e.g., in language modeling and parsing.': 3.800000000000001,\n",
       " 'This is increasingly important in medicine and healthcare, where NLP helps analyze notes and text in electronic health records that would otherwise be inaccessible for study when seeking to improve care or protect patient privacy.': 2.440000000000001,\n",
       " 'Symbolic approach, i.e., the hand-coding of a set of rules for manipulating symbols, coupled with a dictionary lookup, was historically the first approach used both by AI in general and by NLP in particular: such as by writing grammars or devising heuristic rules for stemming.': 3.9200000000000013,\n",
       " 'Machine learning approaches, which include both statistical and neural networks, on the other hand, have many advantages over the symbolic approach: Although rule-based systems for manipulating symbols were still in use in 2020, they have become mostly obsolete with the advance of LLMs in 2023.': 4.6800000000000015,\n",
       " 'Before that they were commonly used: In the late 1980s and mid-1990s, the statistical approach ended a period of AI winter, which was caused by the inefficiencies of the rule-based approaches.': 2.8400000000000007,\n",
       " 'The earliest decision trees, producing systems of hard if–then rules, were still very similar to the old rule-based approaches.': 2.6800000000000006,\n",
       " 'Only the introduction of hidden Markov models, applied to part-of-speech tagging, announced the end of the old rule-based approach.': 2.840000000000001,\n",
       " 'A major drawback of statistical methods is that they require elaborate feature engineering.': 1.4400000000000004,\n",
       " 'Since 2015, the statistical approach was replaced by the neural networks approach, using word embeddings to capture semantic properties of words.': 2.680000000000001,\n",
       " 'Intermediate tasks (e.g., part-of-speech tagging and dependency parsing) have not been needed anymore.': 1.9200000000000004,\n",
       " 'Neural machine translation, based on then-newly-invented sequence-to-sequence transformations, made obsolete the intermediate steps, such as word alignment, previously necessary for statistical machine translation.': 2.880000000000001,\n",
       " 'The following is a list of some of the most commonly researched tasks in natural language processing.': 3.8000000000000003,\n",
       " 'Some of these tasks have direct real-world applications, while others more commonly serve as subtasks that are used to aid in solving larger tasks.': 2.080000000000001,\n",
       " 'Though natural language processing tasks are closely intertwined, they can be subdivided into categories for convenience.': 3.7600000000000002,\n",
       " 'A coarse division is given below.': 0.9600000000000001,\n",
       " 'Based on long-standing trends in the field, it is possible to extrapolate future directions of NLP.': 2.4400000000000004,\n",
       " 'As of 2020, three trends among the topics of the long-standing series of CoNLL Shared Tasks can be observed: Most higher-level NLP applications involve aspects that emulate intelligent behaviour and apparent comprehension of natural language.': 5.000000000000001,\n",
       " 'More broadly speaking, the technical operationalization of increasingly advanced aspects of cognitive behaviour represents one of the developmental trajectories of NLP (see trends among CoNLL shared tasks above).': 3.6800000000000015,\n",
       " 'Cognition refers to \"the mental action or process of acquiring knowledge and understanding through thought, experience, and the senses.\"': 1.6000000000000005,\n",
       " 'Cognitive science is the interdisciplinary, scientific study of the mind and its processes.': 1.8000000000000003,\n",
       " 'Cognitive linguistics is an interdisciplinary branch of linguistics, combining knowledge and research from both psychology and linguistics.': 2.0400000000000005,\n",
       " 'Especially during the age of symbolic NLP, the area of computational linguistics maintained strong ties with cognitive studies.': 3.0000000000000004,\n",
       " 'As an example, George Lakoff offers a methodology to build natural language processing (NLP) algorithms through the perspective of cognitive science, along with the findings of cognitive linguistics, with two defining aspects: Ties with cognitive linguistics are part of the historical heritage of NLP, but they have been less frequently addressed since the statistical turn during the 1990s.': 6.360000000000002,\n",
       " 'Nevertheless, approaches to develop cognitive models towards technically operationalizable frameworks have been pursued in the context of various frameworks, e.g., of cognitive grammar, functional grammar, construction grammar, computational psycholinguistics and cognitive neuroscience (e.g., ACT-R), however, with limited uptake in mainstream NLP (as measured by presence on major conferences of the ACL).': 4.960000000000002,\n",
       " 'More recently, ideas of cognitive NLP have been revived as an approach to achieve explainability, e.g., under the notion of \"cognitive AI\".': 2.8400000000000007,\n",
       " 'Likewise, ideas of cognitive NLP are inherent to neural models multimodal NLP (although rarely made explicit) and developments in artificial intelligence, specifically tools and technologies using large language model approaches and new directions in artificial general intelligence based on the free energy principle by British neuroscientist and theoretician at University College London Karl J. Friston.': 6.560000000000002}"
      ]
     },
     "execution_count": 396,
     "metadata": {},
     "output_type": "execute_result"
    }
   ],
   "source": [
    "sentence_scores"
   ]
  },
  {
   "cell_type": "code",
   "execution_count": 397,
   "metadata": {
    "id": "AhgLpUCHVyHX"
   },
   "outputs": [],
   "source": [
    "avg_score = sum([sentence_scores[sent] for sent in sentence_scores]) / len(sentence_scores)"
   ]
  },
  {
   "cell_type": "code",
   "execution_count": 398,
   "metadata": {},
   "outputs": [
    {
     "data": {
      "text/plain": [
       "3.338666666666668"
      ]
     },
     "execution_count": 398,
     "metadata": {},
     "output_type": "execute_result"
    }
   ],
   "source": [
    "avg_score"
   ]
  },
  {
   "cell_type": "code",
   "execution_count": 423,
   "metadata": {},
   "outputs": [],
   "source": [
    "summary = []\n",
    "for sent in sentence_list:\n",
    "    if (sent in sentence_scores) and (sentence_scores[sent] > (3 * avg)):\n",
    "        summary.append(sent)"
   ]
  },
  {
   "cell_type": "code",
   "execution_count": 427,
   "metadata": {},
   "outputs": [],
   "source": [
    "final = \" \".join(summary)"
   ]
  },
  {
   "cell_type": "code",
   "execution_count": 428,
   "metadata": {},
   "outputs": [
    {
     "data": {
      "text/plain": [
       "\"Natural language processing (NLP) is an interdisciplinary subfield of computer science and information retrieval. It involves processing natural language datasets, such as text corpora or speech corpora, using either rule-based or probabilistic (i.e. The premise of symbolic NLP is well-summarized by John Searle's Chinese room experiment: Given a collection of rules (e.g., a Chinese phrasebook, with questions and matching answers), the computer emulates natural language understanding (or other NLP tasks) by applying those rules to the data it confronts. Up until the 1980s, most natural language processing systems were based on complex sets of hand-written rules. transformational grammar), whose theoretical underpinnings discouraged the sort of corpus linguistics that underlies the machine-learning approach to language processing. In the 2010s, representation learning and deep neural network-style (featuring many hidden layers) machine learning methods became widespread in natural language processing. Machine learning approaches, which include both statistical and neural networks, on the other hand, have many advantages over the symbolic approach: Although rule-based systems for manipulating symbols were still in use in 2020, they have become mostly obsolete with the advance of LLMs in 2023. As of 2020, three trends among the topics of the long-standing series of CoNLL Shared Tasks can be observed: Most higher-level NLP applications involve aspects that emulate intelligent behaviour and apparent comprehension of natural language. As an example, George Lakoff offers a methodology to build natural language processing (NLP) algorithms through the perspective of cognitive science, along with the findings of cognitive linguistics, with two defining aspects: Ties with cognitive linguistics are part of the historical heritage of NLP, but they have been less frequently addressed since the statistical turn during the 1990s. Nevertheless, approaches to develop cognitive models towards technically operationalizable frameworks have been pursued in the context of various frameworks, e.g., of cognitive grammar, functional grammar, construction grammar, computational psycholinguistics and cognitive neuroscience (e.g., ACT-R), however, with limited uptake in mainstream NLP (as measured by presence on major conferences of the ACL). Likewise, ideas of cognitive NLP are inherent to neural models multimodal NLP (although rarely made explicit) and developments in artificial intelligence, specifically tools and technologies using large language model approaches and new directions in artificial general intelligence based on the free energy principle by British neuroscientist and theoretician at University College London Karl J. Friston.\""
      ]
     },
     "execution_count": 428,
     "metadata": {},
     "output_type": "execute_result"
    }
   ],
   "source": [
    "final"
   ]
  },
  {
   "cell_type": "code",
   "execution_count": 429,
   "metadata": {},
   "outputs": [
    {
     "data": {
      "text/plain": [
       "2761"
      ]
     },
     "execution_count": 429,
     "metadata": {},
     "output_type": "execute_result"
    }
   ],
   "source": [
    "len(final)"
   ]
  },
  {
   "cell_type": "code",
   "execution_count": 430,
   "metadata": {},
   "outputs": [
    {
     "data": {
      "text/plain": [
       "7640"
      ]
     },
     "execution_count": 430,
     "metadata": {},
     "output_type": "execute_result"
    }
   ],
   "source": [
    "len(formatted_article_content)"
   ]
  },
  {
   "cell_type": "code",
   "execution_count": null,
   "metadata": {},
   "outputs": [],
   "source": []
  },
  {
   "cell_type": "code",
   "execution_count": null,
   "metadata": {},
   "outputs": [],
   "source": []
  },
  {
   "cell_type": "code",
   "execution_count": null,
   "metadata": {},
   "outputs": [],
   "source": []
  }
 ],
 "metadata": {
  "colab": {
   "provenance": []
  },
  "kernelspec": {
   "display_name": "Python 3 (ipykernel)",
   "language": "python",
   "name": "python3"
  },
  "language_info": {
   "codemirror_mode": {
    "name": "ipython",
    "version": 3
   },
   "file_extension": ".py",
   "mimetype": "text/x-python",
   "name": "python",
   "nbconvert_exporter": "python",
   "pygments_lexer": "ipython3",
   "version": "3.10.13"
  }
 },
 "nbformat": 4,
 "nbformat_minor": 4
}
